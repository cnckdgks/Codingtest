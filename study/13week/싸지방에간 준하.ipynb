{
 "cells": [
  {
   "cell_type": "markdown",
   "id": "302bec94",
   "metadata": {},
   "source": [
    "- 일찍 싸지방에 온 순서로 정렬된 [시작,종료] 리스트 (heapq) : waiting_heap\n",
    "\n",
    "- 각 자리별 이용완료 시간 [이용 완료시간, 자리 번호] (heapq) : time_heap\n",
    "- 각 자리별 사용하고 있는 여부 (heapq) : unoccupation_heap\n",
    "- 각 자리별 누적 사용인원 (dictionary) : cum_num_dict\n",
    "\n",
    "\n",
    "시간 순 대기열 리스트에 대하여\n",
    "\n",
    "    사람이 오기 전 이용이 완료된 자리는 비운다.\n",
    "\n",
    "    사람이 왔을 때 자리가 없으면 \n",
    "                        자리를 하나 만든다.\n",
    "                   자리가 있으면 \n",
    "                        그 자리를 채운다.\n",
    "                        채운 자리는 누적 사용인원 수를 +1처리한다."
   ]
  },
  {
   "cell_type": "code",
   "execution_count": 2,
   "id": "dc21b828",
   "metadata": {},
   "outputs": [
    {
     "name": "stdout",
     "output_type": "stream",
     "text": [
      "5\n",
      "20 50\n",
      "10 100\n",
      "30 120\n",
      "60 110\n",
      "80 90\n"
     ]
    }
   ],
   "source": [
    "# 데이터 입력 받기 / waiting_heap 만들기\n",
    "\n",
    "N = int(input())\n",
    "\n",
    "waiting_heap = []\n",
    "for i in range(N):\n",
    "    temp = list(map(int, input().split()))\n",
    "    heapq.heappush(waiting_heap, (temp[0], temp))    "
   ]
  },
  {
   "cell_type": "code",
   "execution_count": 3,
   "id": "7b2d20fb",
   "metadata": {},
   "outputs": [
    {
     "data": {
      "text/plain": [
       "[(10, [10, 100]),\n",
       " (20, [20, 50]),\n",
       " (30, [30, 120]),\n",
       " (60, [60, 110]),\n",
       " (80, [80, 90])]"
      ]
     },
     "execution_count": 3,
     "metadata": {},
     "output_type": "execute_result"
    }
   ],
   "source": [
    "waiting_heap"
   ]
  },
  {
   "cell_type": "code",
   "execution_count": 18,
   "id": "8bcd566e",
   "metadata": {},
   "outputs": [],
   "source": [
    "import heapq\n",
    "\n",
    "time_heap = []\n",
    "unoccupation_heap = []\n",
    "cum_num_dict = {}"
   ]
  },
  {
   "cell_type": "code",
   "execution_count": 19,
   "id": "f4b23096",
   "metadata": {},
   "outputs": [],
   "source": [
    "seat_num = 1\n",
    "for element in waiting_heap:\n",
    "    # 사람이 오기 전 이용이 완료된 자리는 비운다.\n",
    "    if len(time_heap) != 0:\n",
    "        while True:\n",
    "            if time_heap[0][0] < element[1][0]:\n",
    "                heapq.heappush(unoccupation_heap,time_heap[0][1]) \n",
    "                heapq.heappop(time_heap)\n",
    "            else:\n",
    "                break\n",
    "\n",
    "    # 사람이 왔을 때 자리가 없으면\n",
    "    if len(unoccupation_heap) == 0:\n",
    "        # 자리를 하나 만든다.\n",
    "        heapq.heappush(time_heap, [element[1][1], seat_num])\n",
    "        cum_num_dict[seat_num] = 1\n",
    "        seat_num += 1\n",
    "                        \n",
    "    # 사람이 왔을 때 자리가 있으면\n",
    "    else:\n",
    "        # 그 자리를 채운다.\n",
    "        rest_seat_num = heapq.heappop(unoccupation_heap)\n",
    "        heapq.heappush(time_heap, [element[1][1], rest_seat_num])\n",
    "        # 채운 자리는 누적 사용인원 수를 +1처리한다.\n",
    "        cum_num_dict[rest_seat_num] += 1"
   ]
  },
  {
   "cell_type": "code",
   "execution_count": 20,
   "id": "47fc0be2",
   "metadata": {},
   "outputs": [
    {
     "name": "stdout",
     "output_type": "stream",
     "text": [
      "4\n",
      "dict_values([1, 2, 1, 1])\n"
     ]
    }
   ],
   "source": [
    "print(len(cum_num_dict))\n",
    "print(cum_num_dict.values())"
   ]
  },
  {
   "cell_type": "code",
   "execution_count": null,
   "id": "f02318e1",
   "metadata": {},
   "outputs": [],
   "source": []
  }
 ],
 "metadata": {
  "kernelspec": {
   "display_name": "AItech",
   "language": "python",
   "name": "aitech"
  },
  "language_info": {
   "codemirror_mode": {
    "name": "ipython",
    "version": 3
   },
   "file_extension": ".py",
   "mimetype": "text/x-python",
   "name": "python",
   "nbconvert_exporter": "python",
   "pygments_lexer": "ipython3",
   "version": "3.6.9"
  }
 },
 "nbformat": 4,
 "nbformat_minor": 5
}
