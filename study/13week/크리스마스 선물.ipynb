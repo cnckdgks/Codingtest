{
 "cells": [
  {
   "cell_type": "code",
   "execution_count": 3,
   "id": "d6b0905c",
   "metadata": {},
   "outputs": [
    {
     "name": "stdout",
     "output_type": "stream",
     "text": [
      "5\n",
      "0\n",
      "2 3 2\n",
      "0\n",
      "0\n",
      "0\n"
     ]
    }
   ],
   "source": [
    "N = int(input())\n",
    "\n",
    "visit_list = []\n",
    "for i in range(N):\n",
    "    visit_list.append(list(map(int, input().split())))"
   ]
  },
  {
   "cell_type": "code",
   "execution_count": 4,
   "id": "91ad6a55",
   "metadata": {},
   "outputs": [
    {
     "data": {
      "text/plain": [
       "[[0], [2, 3, 2], [0], [0], [0]]"
      ]
     },
     "execution_count": 4,
     "metadata": {},
     "output_type": "execute_result"
    }
   ],
   "source": [
    "visit_list"
   ]
  },
  {
   "cell_type": "code",
   "execution_count": 5,
   "id": "25db0bac",
   "metadata": {},
   "outputs": [
    {
     "name": "stdout",
     "output_type": "stream",
     "text": [
      "-1\n",
      "3\n",
      "2\n",
      "-1\n"
     ]
    }
   ],
   "source": [
    "import heapq\n",
    "\n",
    "heap = []\n",
    "for element in visit_list:\n",
    "    if element[0] == 0:\n",
    "        if len(heap) == 0:\n",
    "            print(-1)\n",
    "        else:\n",
    "            print(heapq.heappop(heap)[1])\n",
    "    else:\n",
    "        for present in element[1:]:\n",
    "            heapq.heappush(heap, (-present, present))"
   ]
  }
 ],
 "metadata": {
  "kernelspec": {
   "display_name": "AItech",
   "language": "python",
   "name": "aitech"
  },
  "language_info": {
   "codemirror_mode": {
    "name": "ipython",
    "version": 3
   },
   "file_extension": ".py",
   "mimetype": "text/x-python",
   "name": "python",
   "nbconvert_exporter": "python",
   "pygments_lexer": "ipython3",
   "version": "3.6.9"
  }
 },
 "nbformat": 4,
 "nbformat_minor": 5
}
