{
 "cells": [
  {
   "cell_type": "code",
   "execution_count": 55,
   "id": "f70b86b2",
   "metadata": {},
   "outputs": [
    {
     "data": {
      "text/plain": [
       "1"
      ]
     },
     "execution_count": 55,
     "metadata": {},
     "output_type": "execute_result"
    }
   ],
   "source": [
    "def dfs(elements, start: int, k: int):\n",
    "    if k == 0:\n",
    "        results.append(sum(elements)%10)\n",
    "        return\n",
    "        \n",
    "    for j in range(start, len(i)):\n",
    "        elements.append(i[j])\n",
    "        dfs(elements, j+1, k-1)\n",
    "        elements.pop()\n",
    "\n",
    "        \n",
    "test = [[7, 5, 5, 4, 9], [1, 1, 1, 1, 1], [2, 3, 3, 2, 10]]\n",
    "max_num = 0\n",
    "answer = 0\n",
    "elements = []\n",
    "for idx, i in enumerate(test):\n",
    "    results = []\n",
    "    dfs(elements, 0, 3)\n",
    "    if max_num <= max(results):\n",
    "        max_num = max(results)\n",
    "        answer = idx+1\n",
    "\n",
    "answer"
   ]
  },
  {
   "cell_type": "code",
   "execution_count": 11,
   "id": "aeec2a41",
   "metadata": {},
   "outputs": [
    {
     "data": {
      "text/plain": [
       "[1]"
      ]
     },
     "execution_count": 11,
     "metadata": {},
     "output_type": "execute_result"
    }
   ],
   "source": [
    "a = [7, 5, 5, 4, 9]\n",
    "a.append(1)\n",
    "elements = []\n",
    "ab = elements.append(1)\n",
    "elements"
   ]
  },
  {
   "cell_type": "code",
   "execution_count": 31,
   "id": "e95b6a18",
   "metadata": {},
   "outputs": [
    {
     "data": {
      "text/plain": [
       "2"
      ]
     },
     "execution_count": 31,
     "metadata": {},
     "output_type": "execute_result"
    }
   ],
   "source": [
    "12%10"
   ]
  },
  {
   "cell_type": "code",
   "execution_count": null,
   "id": "a6f1f898",
   "metadata": {},
   "outputs": [],
   "source": [
    "7\n",
    "    5\n",
    "    5\n",
    "    4\n",
    "    9\n",
    "5   \n",
    "    5\n",
    "    4\n",
    "    9\n",
    "5\n",
    "4\n",
    "9"
   ]
  },
  {
   "cell_type": "code",
   "execution_count": 50,
   "id": "fb3e333b",
   "metadata": {},
   "outputs": [
    {
     "data": {
      "text/plain": [
       "9"
      ]
     },
     "execution_count": 50,
     "metadata": {},
     "output_type": "execute_result"
    }
   ],
   "source": [
    "del max\n",
    "a = [7, 5, 5, 4, 9]\n",
    "max(a)\n"
   ]
  }
 ],
 "metadata": {
  "kernelspec": {
   "display_name": "Python 3",
   "language": "python",
   "name": "python3"
  },
  "language_info": {
   "codemirror_mode": {
    "name": "ipython",
    "version": 3
   },
   "file_extension": ".py",
   "mimetype": "text/x-python",
   "name": "python",
   "nbconvert_exporter": "python",
   "pygments_lexer": "ipython3",
   "version": "3.6.9"
  }
 },
 "nbformat": 4,
 "nbformat_minor": 5
}
