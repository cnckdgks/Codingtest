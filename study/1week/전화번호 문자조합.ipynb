{
 "cells": [
  {
   "cell_type": "code",
   "execution_count": 13,
   "id": "80a124ce",
   "metadata": {},
   "outputs": [
    {
     "name": "stdout",
     "output_type": "stream",
     "text": [
      "1 a\n",
      "2 ad\n",
      "2 ae\n",
      "2 af\n",
      "1 b\n",
      "2 bd\n",
      "2 be\n",
      "2 bf\n",
      "1 c\n",
      "2 cd\n",
      "2 ce\n",
      "2 cf\n"
     ]
    },
    {
     "data": {
      "text/plain": [
       "['ad', 'ae', 'af', 'bd', 'be', 'bf', 'cd', 'ce', 'cf']"
      ]
     },
     "execution_count": 13,
     "metadata": {},
     "output_type": "execute_result"
    }
   ],
   "source": [
    "def dfs(index, path):\n",
    "    if not digits:\n",
    "        return []\n",
    "    \n",
    "    if len(path) == len(digits):\n",
    "        result.append(path)\n",
    "        return\n",
    "    \n",
    "    for j in dic[digits[index]]:\n",
    "        # print(index+1, path+j)\n",
    "        dfs(index+1, path+j)\n",
    "    \n",
    "\n",
    "    \n",
    "dic = {\"2\": \"abc\", \"3\": \"def\", \"4\": \"ghi\", \"5\": \"jkl\", \"6\": \"mno\", \"7\": \"pqrs\", \"8\": \"tuv\", \"9\": \"wxyz\"}\n",
    "\n",
    "result = []\n",
    "digits = \"23\"\n",
    "dfs(0, \"\")\n",
    "\n",
    "result"
   ]
  }
 ],
 "metadata": {
  "kernelspec": {
   "display_name": "Python 3",
   "language": "python",
   "name": "python3"
  },
  "language_info": {
   "codemirror_mode": {
    "name": "ipython",
    "version": 3
   },
   "file_extension": ".py",
   "mimetype": "text/x-python",
   "name": "python",
   "nbconvert_exporter": "python",
   "pygments_lexer": "ipython3",
   "version": "3.6.9"
  }
 },
 "nbformat": 4,
 "nbformat_minor": 5
}
