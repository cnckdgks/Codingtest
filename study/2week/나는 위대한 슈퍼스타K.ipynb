{
 "cells": [
  {
   "cell_type": "code",
   "execution_count": 70,
   "id": "4b4ac8d5",
   "metadata": {},
   "outputs": [
    {
     "name": "stdout",
     "output_type": "stream",
     "text": [
      "3 2 2\n",
      "2 3.0 1 0.2 3 0.1\n",
      "3 1.0 2 0.5 1 0.2\n"
     ]
    }
   ],
   "source": [
    "N,M,K = input().split(' ')\n",
    "N,M,K = int(N),int(M),int(K)\n",
    "genre_participant_str = []\n",
    "for i in range(M):\n",
    "    genre_participant_str.append(input().split(' '))"
   ]
  },
  {
   "cell_type": "code",
   "execution_count": 74,
   "id": "8fbda3a7",
   "metadata": {},
   "outputs": [
    {
     "data": {
      "text/plain": [
       "[['2', '3.0', '1', '0.2', '3', '0.1'], ['3', '1.0', '2', '0.5', '1', '0.2']]"
      ]
     },
     "execution_count": 74,
     "metadata": {},
     "output_type": "execute_result"
    }
   ],
   "source": [
    "genre_participant_str"
   ]
  },
  {
   "cell_type": "code",
   "execution_count": 75,
   "id": "952f4f84",
   "metadata": {},
   "outputs": [
    {
     "data": {
      "text/plain": [
       "[[2.0, 3.0, 1.0, 0.2, 3.0, 0.1], [3.0, 1.0, 2.0, 0.5, 1.0, 0.2]]"
      ]
     },
     "execution_count": 75,
     "metadata": {},
     "output_type": "execute_result"
    }
   ],
   "source": [
    "genre_participant = []\n",
    "for i in range(len(genre_participant_str)):\n",
    "    genre_participant.append(list(map(float, genre_participant_str[i]))) \n",
    "    \n",
    "genre_participant"
   ]
  },
  {
   "cell_type": "code",
   "execution_count": 72,
   "id": "e3d6444d",
   "metadata": {},
   "outputs": [],
   "source": [
    "# genre_participant = [[4, 5.0, 2, 4.0, 3, 2.0, 1, 1.0],\n",
    "# [2, 2.0, 3, 1.0, 1, 0.5, 4, 0.3],\n",
    "# [4, 6.0, 3, 5.0, 2, 2.0, 1, 0.0],\n",
    "# [1, 4.0, 2, 3.0, 4, 0.6, 3, 0.3]]"
   ]
  },
  {
   "cell_type": "code",
   "execution_count": 76,
   "id": "22787bab",
   "metadata": {},
   "outputs": [
    {
     "data": {
      "text/plain": [
       "4.0"
      ]
     },
     "execution_count": 76,
     "metadata": {},
     "output_type": "execute_result"
    }
   ],
   "source": [
    "# dict - participant : [score]\n",
    "# score 내림차순 정렬\n",
    "\n",
    "# 다음을 k 번 반복\n",
    "## participant 1번째 값 중 가장 큰 값 누적합\n",
    "## 가장 큰 값을 가진 participant key 삭제\n",
    "\n",
    "dict = {}\n",
    "for genre in genre_participant:\n",
    "    for i in range(0, len(genre), 2):\n",
    "        if genre[i] not in dict:\n",
    "            dict[genre[i]] = [genre[i+1]]\n",
    "        else:\n",
    "            dict[genre[i]].append(genre[i+1])\n",
    "\n",
    "for participant, score_list in dict.items():\n",
    "    dict[participant] = sorted(score_list, reverse=True)\n",
    "\n",
    "max_sumofscore = 0\n",
    "for i in range(K):\n",
    "    max_list = [dict[key][0] for key, value in dict.items()]\n",
    "    max_sumofscore += max(max_list)\n",
    "    k_list = [k for k, v in dict.items() if v[0] == max(max_list)]\n",
    "    del dict[k_list[0]]\n",
    "\n",
    "    \n",
    "max_sumofscore"
   ]
  },
  {
   "cell_type": "code",
   "execution_count": 4,
   "id": "5808821f",
   "metadata": {},
   "outputs": [],
   "source": []
  }
 ],
 "metadata": {
  "kernelspec": {
   "display_name": "Python 3",
   "language": "python",
   "name": "python3"
  },
  "language_info": {
   "codemirror_mode": {
    "name": "ipython",
    "version": 3
   },
   "file_extension": ".py",
   "mimetype": "text/x-python",
   "name": "python",
   "nbconvert_exporter": "python",
   "pygments_lexer": "ipython3",
   "version": "3.6.9"
  }
 },
 "nbformat": 4,
 "nbformat_minor": 5
}
