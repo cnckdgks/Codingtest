{
 "cells": [
  {
   "cell_type": "code",
   "execution_count": 36,
   "id": "f3893146",
   "metadata": {},
   "outputs": [
    {
     "name": "stdout",
     "output_type": "stream",
     "text": [
      "1000800 1000801\n"
     ]
    },
    {
     "data": {
      "text/plain": [
       "1"
      ]
     },
     "execution_count": 36,
     "metadata": {},
     "output_type": "execute_result"
    }
   ],
   "source": [
    "L, R = list(input().split(' '))\n",
    "length = len(L)\n",
    "L, R = int(L), int(R)\n",
    "\n",
    "\n",
    "a=1\n",
    "idx = length-1\n",
    "for i in range(length):\n",
    "    a = a*10\n",
    "    if str(L)[idx] == '8' and L+a/10 <= R:\n",
    "        L = L+a/10\n",
    "        L = L - (L)%a\n",
    "    elif str(L)[idx] == '8' and L+a/10 > R:\n",
    "        break\n",
    "    else:\n",
    "        L = L - (L)%a\n",
    "    idx -= 1\n",
    "\n",
    "\n",
    "a=1\n",
    "count = 0\n",
    "for i in str(L):\n",
    "    if i == '8':\n",
    "        count += 1\n",
    "count"
   ]
  }
 ],
 "metadata": {
  "kernelspec": {
   "display_name": "Python 3",
   "language": "python",
   "name": "python3"
  }
 },
 "nbformat": 4,
 "nbformat_minor": 5
}
