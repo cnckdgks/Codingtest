{
 "cells": [
  {
   "cell_type": "code",
   "execution_count": null,
   "id": "c1311697",
   "metadata": {},
   "outputs": [],
   "source": [
    "'''\n",
    "path = [[start]]\n",
    "while !path.isEmpty()\n",
    "  for path.pop(0) 와 해밍거리가 1인 이진수\n",
    "      이진수가 주어진 목록에 있고 기존 경로에 없다면\n",
    "        경로 추가\n",
    "        해당 경로가 end와 같다면 \n",
    "          추가된 경로 출력 후 종료\n",
    "        그렇지 않다면\n",
    "          추가된 경로 큐에 삽입\n",
    "'''\n"
   ]
  },
  {
   "cell_type": "code",
   "execution_count": 12,
   "id": "7648131b",
   "metadata": {},
   "outputs": [
    {
     "name": "stdout",
     "output_type": "stream",
     "text": [
      "5 3\n",
      "000\n",
      "111\n",
      "010\n",
      "110\n",
      "001\n",
      "1 2\n",
      "[1]\n",
      "['100', '010', '001']\n",
      "[1, 3]\n",
      "['110', '000', '011']\n",
      "[1, 5]\n",
      "['101', '011', '000']\n",
      "[1, 3, 4]\n",
      "['010', '100', '111']\n",
      "[1, 3, 4, 2]\n"
     ]
    }
   ],
   "source": [
    "N, K = input().split()\n",
    "N, K = int(N), int(K)\n",
    "\n",
    "binum_list = ['0']\n",
    "for i in range(N):\n",
    "    binum_list.append(input())\n",
    "\n",
    "start, end = input().split()\n",
    "start, end = int(start), int(end)\n",
    "\n",
    "    \n",
    "paths = [[start]]\n",
    "flag = True\n",
    "answer = []\n",
    "while len(paths) != 0:\n",
    "    path = paths.pop(0)\n",
    "#     print(path)\n",
    "    haming = []\n",
    "    for i, c in enumerate(binum_list[path[-1]]):\n",
    "        if c == '0':\n",
    "            haming.append(binum_list[path[-1]][0:i]+'1'+binum_list[path[-1]][i+1:])\n",
    "        else:\n",
    "            haming.append(binum_list[path[-1]][0:i]+'0'+binum_list[path[-1]][i+1:])\n",
    "#     print(haming)\n",
    "    for ham in haming:\n",
    "        if ham in binum_list and ham not in path:\n",
    "            new_path = path + [binum_list.index(ham)]\n",
    "            if ham == binum_list[end]:\n",
    "                answer = new_path\n",
    "                flag = False\n",
    "                break;\n",
    "            else:\n",
    "                paths.append(new_path)\n",
    "    if flag == False:\n",
    "        break;\n",
    "        \n",
    "if len(answer) != 0:\n",
    "    print(*answer)\n",
    "else:\n",
    "    print(-1)"
   ]
  },
  {
   "cell_type": "code",
   "execution_count": null,
   "id": "4f5cf150",
   "metadata": {},
   "outputs": [],
   "source": [
    "5 3\n",
    "000\n",
    "111\n",
    "010\n",
    "110\n",
    "001\n",
    "1 2"
   ]
  },
  {
   "cell_type": "code",
   "execution_count": 13,
   "id": "f6c8f65b",
   "metadata": {},
   "outputs": [
    {
     "name": "stdout",
     "output_type": "stream",
     "text": [
      "1 3 4 2\n"
     ]
    }
   ],
   "source": [
    "a = [1, 3, 4, 2]\n",
    "print(*a)"
   ]
  }
 ],
 "metadata": {
  "kernelspec": {
   "display_name": "Python 3",
   "language": "python",
   "name": "python3"
  },
  "language_info": {
   "codemirror_mode": {
    "name": "ipython",
    "version": 3
   },
   "file_extension": ".py",
   "mimetype": "text/x-python",
   "name": "python",
   "nbconvert_exporter": "python",
   "pygments_lexer": "ipython3",
   "version": "3.6.9"
  }
 },
 "nbformat": 4,
 "nbformat_minor": 5
}
