{
 "cells": [
  {
   "cell_type": "code",
   "execution_count": null,
   "id": "736ad4de",
   "metadata": {},
   "outputs": [],
   "source": [
    "'''\n",
    "q에  [S, T, 0]를 넣는다.  \n",
    "최소 발차기 횟수 = -1  \n",
    "큐가 빌 때까지 다음을 반복  \n",
    "  큐에서 원소를 꺼낸다.  \n",
    "  if S*2 < T+3  \n",
    "    1. [S+1, T, count+1]를 큐에 넣는다.  \n",
    "    2. [S*2, T+3, count+1]을 큐에 넣는다.  \n",
    "  elif  S*2 == T+3  \n",
    "    [S, T, count]에서 count+=1 이후  \n",
    "    최소 발차기 횟수와 비교  \n",
    "  elif S*2 > T+3  \n",
    "    [S, T, count]에서 count+=(T-S) 이후  \n",
    "    최소 발차기 횟수와 비교\n",
    "'''"
   ]
  },
  {
   "cell_type": "code",
   "execution_count": 9,
   "id": "38a02275",
   "metadata": {},
   "outputs": [
    {
     "name": "stdout",
     "output_type": "stream",
     "text": [
      "6\n",
      "10 20\n",
      "2 7\n",
      "15 62\n",
      "10 37\n",
      "11 50\n",
      "34 59\n"
     ]
    }
   ],
   "source": [
    "N = input()\n",
    "N = int(N)\n",
    "test = []\n",
    "for i in range(N):\n",
    "    temp = list(map(int ,input().split()))\n",
    "    temp.append(0)\n",
    "    test.append(temp)"
   ]
  },
  {
   "cell_type": "code",
   "execution_count": 10,
   "id": "3747d1c8",
   "metadata": {},
   "outputs": [
    {
     "data": {
      "text/plain": [
       "[[10, 20, 0], [2, 7, 0], [15, 62, 0], [10, 37, 0], [11, 50, 0], [34, 59, 0]]"
      ]
     },
     "execution_count": 10,
     "metadata": {},
     "output_type": "execute_result"
    }
   ],
   "source": [
    "# test"
   ]
  },
  {
   "cell_type": "code",
   "execution_count": 1,
   "id": "82e3e734",
   "metadata": {},
   "outputs": [],
   "source": [
    "test =  [[10, 20, 0],[2, 7, 0], [15, 62, 0], [10, 37, 0], [11, 50, 0], [34, 59, 0]]"
   ]
  },
  {
   "cell_type": "code",
   "execution_count": 11,
   "id": "3f16f734",
   "metadata": {},
   "outputs": [
    {
     "name": "stdout",
     "output_type": "stream",
     "text": [
      "3\n",
      "3\n",
      "4\n",
      "4\n",
      "5\n",
      "25\n"
     ]
    }
   ],
   "source": [
    "for i in test:\n",
    "    min_count = -1\n",
    "    case = []\n",
    "    case.append(i)\n",
    "    while(len(case) != 0):\n",
    "        temp = case.pop(0)\n",
    "#         print(temp)\n",
    "        if temp[0]*2 < temp[1]+3:\n",
    "            case.append([temp[0]+1, temp[1], temp[2]+1])\n",
    "            case.append([temp[0]*2, temp[1]+3, temp[2]+1])\n",
    "        elif temp[0]*2 == temp[1]+3:\n",
    "            if min_count == -1:\n",
    "                min_count = temp[2]+1\n",
    "            elif min_count > temp[2]+1:\n",
    "                min_count = temp[2]+1\n",
    "        else:\n",
    "            if min_count == -1:\n",
    "                min_count = temp[2]+(temp[1]-temp[0])\n",
    "            elif min_count > temp[2]+(temp[1]-temp[0]):\n",
    "                min_count = temp[2]+(temp[1]-temp[0])\n",
    "    print(min_count)\n",
    "#     print('---------')\n",
    "    "
   ]
  },
  {
   "cell_type": "markdown",
   "id": "b397602d",
   "metadata": {},
   "source": [
    "Grammar  \n",
    "case.length() -> len(case) != 0  \n",
    "while{} -> while :  \n",
    "temp = case.pop() -> temp = case.pop(0)  \n",
    "\n",
    "실수한 점  \n",
    "case.append([temp[0]+1, temp[1], temp[0]+1])  ->  case.append([temp[0]+1, temp[1], temp[2]+1])  \n",
    "case.append([temp[0]*2, temp[1]+3, temp[0]+1])  -> case.append([temp[0]*2, temp[1]+3, temp[2]+1])  "
   ]
  }
 ],
 "metadata": {
  "kernelspec": {
   "display_name": "Python 3",
   "language": "python",
   "name": "python3"
  },
  "language_info": {
   "codemirror_mode": {
    "name": "ipython",
    "version": 3
   },
   "file_extension": ".py",
   "mimetype": "text/x-python",
   "name": "python",
   "nbconvert_exporter": "python",
   "pygments_lexer": "ipython3",
   "version": "3.6.9"
  }
 },
 "nbformat": 4,
 "nbformat_minor": 5
}
