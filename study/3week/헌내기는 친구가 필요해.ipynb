{
 "cells": [
  {
   "cell_type": "code",
   "execution_count": null,
   "id": "59e787bd",
   "metadata": {},
   "outputs": [],
   "source": [
    "'''\n",
    "candidate(v==(x, y))   # v의 상하좌우 좌표 중 벽이 아니고 캠퍼스 내의 좌표인 경우\n",
    "candidate_list = []\n",
    "if x+1 < N and (x+1, y)값이 X가 아니면\n",
    "    candidate_list.append([x+1, y])\n",
    "if x-1 >= 0 and (x-1, y)값이 X가 아니면\n",
    "    candidate_list.append([x-1, y])\n",
    "if y+1 < M and (x, y+1)값이 X가 아니면\n",
    "    candidate_list.append([x, y+1])\n",
    "if y-1 >= 0 and (x, y-1)값이 X가 아니면\n",
    "    candidate_list.append([x, y-1])\n",
    "\n",
    "return candidate_list\n",
    "\n",
    "\n",
    "dfs(u)\n",
    "v를 방문함 표시\n",
    "if V가 P이면\n",
    "    count+=1\n",
    "for u <- (v와 인접한 노드 == candidate(v==(x, y)))\n",
    "    if u가 방문되지 않았다면 \n",
    "        dfs(u)\n",
    "\n",
    "\n",
    "if count == 0\n",
    "    print('TT')\n",
    "else\n",
    "    print(count)\n",
    "'''"
   ]
  },
  {
   "cell_type": "code",
   "execution_count": 15,
   "id": "982fcc8d",
   "metadata": {},
   "outputs": [
    {
     "name": "stdout",
     "output_type": "stream",
     "text": [
      "3 5\n",
      "OOOPO\n",
      "OIOOX\n",
      "OOOXP\n",
      "[2, 1]\n",
      "[2, 2]\n",
      "[1, 2]\n",
      "[0, 2]\n",
      "[0, 3]\n",
      "[1, 3]\n",
      "[0, 4]\n",
      "[0, 1]\n",
      "[0, 0]\n",
      "[1, 0]\n",
      "[2, 0]\n",
      "1\n"
     ]
    }
   ],
   "source": [
    "N, M = input().split()\n",
    "N, M = int(N), int(M)\n",
    "\n",
    "campus = []\n",
    "position = []\n",
    "for i in range(N):\n",
    "    temp = [c for c in input()]\n",
    "#     print(temp)\n",
    "    if 'I' in temp:\n",
    "        position = [i, temp.index('I')]\n",
    "    campus.append(temp)\n",
    "\n",
    "visited = [[0 for j in range(M)] for i in range(N)]\n",
    "count = 0\n",
    "\n",
    "# print(position)\n",
    "\n",
    "def candidate(v):\n",
    "    candidate_list = []\n",
    "    if v[0]+1 < N and campus[v[0]+1][v[1]] != 'X':\n",
    "        candidate_list.append([v[0]+1, v[1]])\n",
    "    if v[0]-1 >= 0 and campus[v[0]-1][v[1]] != 'X':\n",
    "        candidate_list.append([v[0]-1, v[1]])\n",
    "    if v[1]+1 < M and campus[v[0]][v[1]+1] != 'X':\n",
    "        candidate_list.append([v[0], v[1]+1])\n",
    "    if v[1]-1 >= 0 and campus[v[0]][v[1]-1] != 'X':\n",
    "        candidate_list.append([v[0], v[1]-1])\n",
    "    return candidate_list\n",
    "\n",
    "\n",
    "def dfs(v):\n",
    "    visited[v[0]][v[1]] = 1\n",
    "    if campus[v[0]][v[1]] == 'P':\n",
    "        global count\n",
    "        count +=1\n",
    "    \n",
    "    for can in candidate(v):\n",
    "        print(can)\n",
    "        if visited[can[0]][can[1]] == 0:\n",
    "#             print(can)\n",
    "            dfs(can)\n",
    "\n",
    "# print(count)\n",
    "dfs(position)\n",
    "\n",
    "if count == 0:\n",
    "    print('TT')\n",
    "else:\n",
    "    print(count)\n"
   ]
  },
  {
   "cell_type": "code",
   "execution_count": null,
   "id": "cc30a017",
   "metadata": {},
   "outputs": [],
   "source": [
    "3 5\n",
    "OOOPO\n",
    "OIOOX\n",
    "OOOXP"
   ]
  }
 ],
 "metadata": {
  "kernelspec": {
   "display_name": "Python 3",
   "language": "python",
   "name": "python3"
  },
  "language_info": {
   "codemirror_mode": {
    "name": "ipython",
    "version": 3
   },
   "file_extension": ".py",
   "mimetype": "text/x-python",
   "name": "python",
   "nbconvert_exporter": "python",
   "pygments_lexer": "ipython3",
   "version": "3.6.9"
  }
 },
 "nbformat": 4,
 "nbformat_minor": 5
}
