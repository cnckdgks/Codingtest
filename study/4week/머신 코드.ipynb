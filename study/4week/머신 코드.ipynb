{
 "cells": [
  {
   "cell_type": "markdown",
   "id": "6199416f",
   "metadata": {},
   "source": [
    "의사 코드\n",
    "\n",
    "result = 주어진 문자열에서 대문자로 시작하고 그 뒤에 소문자가 없거나 하나 이상인 부분을 찾는다.\n",
    "answer = 0\n",
    "pad = 'N'\n",
    "new_code = ''\n",
    "\n",
    "for element in result:\n",
    "    if new_code가 4로 나누어 떨어지지 않으면\n",
    "        answer += 나머지\n",
    "        new_code += 나머지*pad\n",
    "    new_code에 다음 element를 뒤에 붙여준다.\n",
    "    "
   ]
  },
  {
   "cell_type": "code",
   "execution_count": 26,
   "id": "6fac266d",
   "metadata": {},
   "outputs": [
    {
     "name": "stdout",
     "output_type": "stream",
     "text": [
      "AbcbBccCDefgh\n"
     ]
    }
   ],
   "source": [
    "import re\n",
    "\n",
    "test = input().strip()"
   ]
  },
  {
   "cell_type": "code",
   "execution_count": 27,
   "id": "8b6a823c",
   "metadata": {},
   "outputs": [],
   "source": [
    "pattern = r'[A-Z][a-z]*'"
   ]
  },
  {
   "cell_type": "code",
   "execution_count": 28,
   "id": "a6aac44d",
   "metadata": {},
   "outputs": [
    {
     "data": {
      "text/plain": [
       "['Abcb', 'Bcc', 'C', 'Defgh']"
      ]
     },
     "execution_count": 28,
     "metadata": {},
     "output_type": "execute_result"
    }
   ],
   "source": [
    "result = re.findall(pattern, test)\n",
    "result"
   ]
  },
  {
   "cell_type": "code",
   "execution_count": 29,
   "id": "ab8fa1cb",
   "metadata": {},
   "outputs": [
    {
     "data": {
      "text/plain": [
       "4"
      ]
     },
     "execution_count": 29,
     "metadata": {},
     "output_type": "execute_result"
    }
   ],
   "source": [
    "pad = 'N'\n",
    "answer = 0\n",
    "new_code = ''\n",
    "for element in result:\n",
    "    if len(new_code)%4 != 0:\n",
    "        rest = len(new_code)%4\n",
    "        new_code += (4-rest)*pad\n",
    "        answer += 4-rest%4\n",
    "    new_code += element\n",
    "print(answer)"
   ]
  },
  {
   "cell_type": "markdown",
   "id": "85344c5b",
   "metadata": {},
   "source": [
    "문법\n",
    "* : 없거나 하나 이상일 때\n",
    "% : 나머지 연산자\n",
    "    \n",
    "new_code%4 -> len(new_code)%4\n",
    "    \n",
    "len(new_code)%4 값은 패딩처리 후 0으로 변한다.\n",
    "따라서 rest 변수로 바꾸어 주어야한다.\n",
    "\n",
    "* 백준에서는 answer만 쓰면 틀린다. print(answer)"
   ]
  }
 ],
 "metadata": {
  "kernelspec": {
   "display_name": "AItech",
   "language": "python",
   "name": "aitech"
  },
  "language_info": {
   "codemirror_mode": {
    "name": "ipython",
    "version": 3
   },
   "file_extension": ".py",
   "mimetype": "text/x-python",
   "name": "python",
   "nbconvert_exporter": "python",
   "pygments_lexer": "ipython3",
   "version": "3.6.9"
  }
 },
 "nbformat": 4,
 "nbformat_minor": 5
}
