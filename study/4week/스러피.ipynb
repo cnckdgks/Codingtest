{
 "cells": [
  {
   "cell_type": "markdown",
   "id": "823344e4",
   "metadata": {},
   "source": [
    "의사 코드\n",
    "\n",
    "최소단위 Slimp를 찾으면 I로 바꾸어주는 과정을 반복한다. (최소 단위 Slimp_pattern = AH|A + Slump_pattern + C| ABIC 이다.)\n",
    "Slump를 찾으면 U로 바꾸어준다.\n",
    "\n",
    "결과가 IU로 나오면 print('YES')\n",
    "그렇지 않으면 print('NO')"
   ]
  },
  {
   "cell_type": "code",
   "execution_count": 10,
   "id": "dbe10aab",
   "metadata": {},
   "outputs": [
    {
     "name": "stdout",
     "output_type": "stream",
     "text": [
      "SLURPYS OUTPUT\n",
      "2\n",
      "AHDFG\n",
      "DFGAH\n",
      "YES\n",
      "NO\n",
      "END OF OUTPUT\n"
     ]
    }
   ],
   "source": [
    "import re\n",
    "\n",
    "print('SLURPYS OUTPUT')\n",
    "\n",
    "N = int(input())\n",
    "tests = [input() for i in range(N)]\n",
    "Slump_pattern = r'([DE]F+)+G'\n",
    "Slimp_pattern = r'AH' + r'|' + r'A' + Slump_pattern + r'C' + r'|' + r'ABIC'\n",
    "\n",
    "for test in tests:\n",
    "    while len(re.findall(Slimp_pattern, test)) > 0:\n",
    "        test = re.sub(Slimp_pattern, 'I', test)\n",
    "\n",
    "    result = re.sub(Slump_pattern, 'U', test)\n",
    "    if result == 'IU':\n",
    "        print('YES')\n",
    "    else:\n",
    "        print('NO')\n",
    "\n",
    "print('END OF OUTPUT')"
   ]
  },
  {
   "cell_type": "code",
   "execution_count": null,
   "id": "d5803605",
   "metadata": {},
   "outputs": [],
   "source": []
  }
 ],
 "metadata": {
  "kernelspec": {
   "display_name": "Python 3",
   "language": "python",
   "name": "python3"
  },
  "language_info": {
   "codemirror_mode": {
    "name": "ipython",
    "version": 3
   },
   "file_extension": ".py",
   "mimetype": "text/x-python",
   "name": "python",
   "nbconvert_exporter": "python",
   "pygments_lexer": "ipython3",
   "version": "3.6.9"
  }
 },
 "nbformat": 4,
 "nbformat_minor": 5
}
