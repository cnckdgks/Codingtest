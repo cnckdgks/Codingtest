{
 "cells": [
  {
   "cell_type": "code",
   "execution_count": 11,
   "id": "9858489e",
   "metadata": {},
   "outputs": [
    {
     "name": "stdout",
     "output_type": "stream",
     "text": [
      "2\n",
      "AFC\n",
      "AAAFFCCAAAFFCC\n",
      "Infected!\n",
      "Infected!\n"
     ]
    }
   ],
   "source": [
    "import re\n",
    "\n",
    "N = int(input())\n",
    "\n",
    "tests = [input() for i in range(N)]\n",
    "pattern = r'[A-F]?A+F+C+[A-F]?'\n",
    "\n",
    "for test in tests:\n",
    "    result = re.sub(pattern, \"\",test)\n",
    "    if len(result)==0:\n",
    "        print('Infected!')\n",
    "    else:\n",
    "        print('Good')\n"
   ]
  },
  {
   "cell_type": "markdown",
   "id": "4ba1ce26",
   "metadata": {},
   "source": [
    "? : 있거나 없거나\n",
    "tests = [input() for i in N] -> tests = [input() for i in range(N)]"
   ]
  }
 ],
 "metadata": {
  "kernelspec": {
   "display_name": "Python 3",
   "language": "python",
   "name": "python3"
  },
  "language_info": {
   "codemirror_mode": {
    "name": "ipython",
    "version": 3
   },
   "file_extension": ".py",
   "mimetype": "text/x-python",
   "name": "python",
   "nbconvert_exporter": "python",
   "pygments_lexer": "ipython3",
   "version": "3.6.9"
  }
 },
 "nbformat": 4,
 "nbformat_minor": 5
}
