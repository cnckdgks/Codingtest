{
 "cells": [
  {
   "cell_type": "code",
   "execution_count": null,
   "id": "f6c5b411",
   "metadata": {},
   "outputs": [],
   "source": [
    "Simulation\n",
    "log = []\n",
    "event = [1,3,6,4] / static = [2, 5]  log = [event[0], static[0], shift]\n",
    "event = [5,1,2,6] / static = [4, 3]  traces = [5,1]\n",
    "event = [3,2,4,5] / static = [1, 6]  traces = [4,5]\n",
    "\n",
    "* 회전 : event = [static[1],다음 값, static[0], 7- 다음 값] / static = [현재 값, 7-현재 값]\n",
    "\n",
    "\n",
    "event = [1,3,6,4]\n",
    "static = [2,5]\n",
    "current = 0\n",
    "shift = -1\n",
    "trace = 0\n",
    "n = 0\n",
    "while n < R:\n",
    "    if [event[0], static[0], shift] in log:\n",
    "        trace += trace*int((R-n+1)/n)\n",
    "        n += int((R-n+1)/n)*n\n",
    "        if n == R:\n",
    "            break\n",
    "        log = []\n",
    "    else:\n",
    "        log.append([event[0], static[0], shift])\n",
    "    position = 0\n",
    "    trace += sum(event)*int(C/4)\n",
    "    C%4번 이동\n",
    "        current 갱신 \n",
    "        trace에 현재 값 더하기\n",
    "        position += shift\n",
    "    회전/shift = -shift\n",
    "    n+=1\n",
    "\n",
    "print(trace)"
   ]
  },
  {
   "cell_type": "code",
   "execution_count": 59,
   "id": "1f092654",
   "metadata": {},
   "outputs": [
    {
     "name": "stdout",
     "output_type": "stream",
     "text": [
      "737 296\n",
      "763532\n"
     ]
    }
   ],
   "source": [
    "R, C = map(int, input().split())\n",
    "event = [1,3,6,4]\n",
    "static = [2,5]\n",
    "shift = -1\n",
    "trace = 0\n",
    "n = 0\n",
    "log = []\n",
    "while n < R:\n",
    "    if [event[0], static[0], shift] in log:\n",
    "        trace += trace*int((R-n)/n)\n",
    "        n += int((R-n)/n)*n\n",
    "        if n == R:\n",
    "            break\n",
    "        log = []\n",
    "    else:\n",
    "        log.append([event[0], static[0], shift])\n",
    "    position = 0\n",
    "    trace += sum(event)*int(C/4)\n",
    "\n",
    "    for i in range(0,C%4):\n",
    "        trace += event[position]\n",
    "        position += shift\n",
    "    \n",
    "    position -= shift\n",
    "\n",
    "    next_po = (position+1)%4\n",
    "    current = event[position]\n",
    "    next_num = event[next_po]\n",
    "    event = [static[1],next_num, static[0], 7- next_num]\n",
    "    static = [current, 7-current]\n",
    "    shift = -shift\n",
    "    n+=1\n",
    "\n",
    "print(trace)"
   ]
  },
  {
   "cell_type": "code",
   "execution_count": 56,
   "id": "ca7d0843",
   "metadata": {},
   "outputs": [
    {
     "data": {
      "text/plain": [
       "4427"
      ]
     },
     "execution_count": 56,
     "metadata": {},
     "output_type": "execute_result"
    }
   ],
   "source": []
  },
  {
   "cell_type": "code",
   "execution_count": 55,
   "id": "43b6eeaf",
   "metadata": {},
   "outputs": [
    {
     "data": {
      "text/plain": [
       "737"
      ]
     },
     "execution_count": 55,
     "metadata": {},
     "output_type": "execute_result"
    }
   ],
   "source": [
    "6*122+5"
   ]
  },
  {
   "cell_type": "markdown",
   "id": "282505b4",
   "metadata": {},
   "source": [
    "int(3/4) 몫 (양수일 때)\n",
    "3%4   나머지\n",
    "round  반올림\n",
    "math.ceil 올림\n",
    "math.floor 내림\n",
    "\n",
    "해시 문법\n",
    "log = [[1,2,3]]\n",
    "if [1,3,2] in log:\n",
    "    print('yes')\n",
    "else:\n",
    "    print('no')\n",
    "    \n",
    "\n",
    "position -= shift               # 반복문에서 마지막 값 고려하기\n",
    "next_po = (position+1)%4        # 인덱스 값은 리스트 크기 고려\n",
    "current = event[position]\n",
    "next_num = event[next_po]       # 변동되는 변수들로 값을 구할 때는 변수를 새로 할당한다!\n",
    "\n",
    "\n",
    "6 + int(737-6/6)*6 + 737%6          #6 + int(737-6+1/6)*6 + 737%6 (X)  나머지 연산 실수"
   ]
  }
 ],
 "metadata": {
  "kernelspec": {
   "display_name": "AItech",
   "language": "python",
   "name": "aitech"
  },
  "language_info": {
   "codemirror_mode": {
    "name": "ipython",
    "version": 3
   },
   "file_extension": ".py",
   "mimetype": "text/x-python",
   "name": "python",
   "nbconvert_exporter": "python",
   "pygments_lexer": "ipython3",
   "version": "3.6.9"
  }
 },
 "nbformat": 4,
 "nbformat_minor": 5
}
