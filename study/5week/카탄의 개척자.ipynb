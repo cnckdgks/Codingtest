{
 "cells": [
  {
   "cell_type": "markdown",
   "id": "209165e5",
   "metadata": {},
   "source": [
    "count_used = {1:1, 2:2, 3:2, 4:1, 5:1}\n",
    "누적 값 생성 리스트 = [1,2,3,4,5,2,3]\n",
    "\n",
    "n = 2\n",
    "인접리스트 = [2,3,4,5,2,3]\n",
    "while(len(누적 값 생성 리스트) < c)\n",
    "    이전 생성 값 = 0\n",
    "    인접리스트 = 값 생성 리스트\n",
    "    인접 인덱스1 = 배열의 마지막 인덱스\n",
    "    인접 인덱스2 = 배열의 첫 번째 인덱스\n",
    "    값 생성 리스트 = []\n",
    "    \n",
    "    while(6)\n",
    "      - n-2번 반복\n",
    "          이전 생성 값, 인접 인덱스1의 값과 인접 인덱스2의 값을 고려하여 값 생성, 값 생성 리스트에 추가\n",
    "          이전 생성 값 = 새로 생성한 값\n",
    "          인접 인덱스1+=1, 인접 인덱스2+=1\n",
    "          \n",
    "      - 인접 인덱스1+=1\n",
    "      - 이전 생성 값, 인접 인덱스1의 값과 인접 인덱스2의 값을 고려\n",
    "        if 6번째 반복일 때\n",
    "          n배열의 첫 번째 값 추가 고려\n",
    "        값 생성, 값 생성 리스트에 추가\n",
    "        인접 인덱스2 +=1\n",
    "    누적 값 생성 리스트.append(값 생성 리스트)\n",
    "\n",
    "\n",
    "print(누적 값 생성 리스트[c-1])"
   ]
  },
  {
   "cell_type": "code",
   "execution_count": 59,
   "id": "9f116b4e",
   "metadata": {},
   "outputs": [
    {
     "name": "stdout",
     "output_type": "stream",
     "text": [
      "300\n",
      "1\n",
      "{1: 66, 2: 66, 3: 67, 4: 66, 5: 66}\n"
     ]
    }
   ],
   "source": [
    "c = int(input())\n",
    "count_used = {1:1, 2:2, 3:2, 4:1, 5:1}\n",
    "cum_gen_list = [1,2,3,4,5,2,3]\n",
    "\n",
    "n = 2\n",
    "gen_num_list = [2,3,4,5,2,3]\n",
    "while(len(cum_gen_list) < c):\n",
    "    n+=1\n",
    "    pre_gen_num = 0\n",
    "    near_list = gen_num_list\n",
    "    near_ind1 = -1\n",
    "    near_ind2 = 0\n",
    "    gen_num_list = []\n",
    "    \n",
    "    for a in range(0,6):\n",
    "        for b in range(0,n-2):\n",
    "            consider_set = set(count_used.keys()) - set([pre_gen_num, near_list[near_ind1], near_list[near_ind2]])\n",
    "            min = [6,0]\n",
    "            for i in consider_set:\n",
    "                if min[1] == 0 or min[1] > count_used[i] or min[1] == count_used[i] & min[0] > i:\n",
    "                    min = [i, count_used[i]]\n",
    "\n",
    "            gen_num_list.append(min[0])        \n",
    "            pre_gen_num = min[0]\n",
    "            count_used[min[0]] += 1\n",
    "            near_ind1+=1\n",
    "            near_ind2+=1\n",
    "        \n",
    "        near_ind2-=1\n",
    "        consider_set = set(count_used.keys()) - set([pre_gen_num, near_list[near_ind1], near_list[near_ind2]])\n",
    "        if a==5:\n",
    "            consider_set-= set([gen_num_list[0]])\n",
    "        min = [6,0]\n",
    "        for i in consider_set:\n",
    "            if min[1] == 0 or min[1] > count_used[i] or min[1] == count_used[i] & min[0] > i:\n",
    "                min = [i, count_used[i]]\n",
    "        gen_num_list.append(min[0])\n",
    "        pre_gen_num = min[0]\n",
    "        count_used[min[0]] += 1\n",
    "        near_ind2+=1\n",
    "    cum_gen_list.extend(gen_num_list)\n",
    "\n",
    "print(cum_gen_list[c-1])\n",
    "print(count_used)"
   ]
  },
  {
   "cell_type": "markdown",
   "id": "c167cd5d",
   "metadata": {},
   "source": [
    "count_used = {1:1, 2:2, 3:2, 4:1, 5:1}\n",
    "count_used[3]\n",
    "\n",
    "a = set([1,3])\n",
    "a=a.union(set([1, 2]))\n",
    "a\n",
    "\n",
    "set([1,2,3,4,5]) - set([1,2,0])\n",
    "\n",
    "for i in set(count_used.keys()):\n",
    "    print(i)\n",
    "    \n",
    "set(count_used.keys())[1] # X\n",
    "\n",
    "count_used.keys() #not key()\n",
    "\n",
    "a = [1,2,3]\n",
    "a.extend([4])\n",
    "print(a)\n",
    "\n",
    "or  # | (x)"
   ]
  }
 ],
 "metadata": {
  "kernelspec": {
   "display_name": "AItech",
   "language": "python",
   "name": "aitech"
  },
  "language_info": {
   "codemirror_mode": {
    "name": "ipython",
    "version": 3
   },
   "file_extension": ".py",
   "mimetype": "text/x-python",
   "name": "python",
   "nbconvert_exporter": "python",
   "pygments_lexer": "ipython3",
   "version": "3.6.9"
  }
 },
 "nbformat": 4,
 "nbformat_minor": 5
}
